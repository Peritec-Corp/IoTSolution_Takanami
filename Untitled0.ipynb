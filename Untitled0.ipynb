{
  "nbformat": 4,
  "nbformat_minor": 0,
  "metadata": {
    "colab": {
      "provenance": [],
      "authorship_tag": "ABX9TyP50AxXLQzVHSjoI55gNt7p",
      "include_colab_link": true
    },
    "kernelspec": {
      "name": "python3",
      "display_name": "Python 3"
    },
    "language_info": {
      "name": "python"
    }
  },
  "cells": [
    {
      "cell_type": "markdown",
      "metadata": {
        "id": "view-in-github",
        "colab_type": "text"
      },
      "source": [
        "<a href=\"https://colab.research.google.com/github/Peritec-Corp/IoTSolution_Takanami/blob/main/Untitled0.ipynb\" target=\"_parent\"><img src=\"https://colab.research.google.com/assets/colab-badge.svg\" alt=\"Open In Colab\"/></a>"
      ]
    },
    {
      "cell_type": "code",
      "execution_count": 1,
      "metadata": {
        "colab": {
          "base_uri": "https://localhost:8080/"
        },
        "id": "-hgIGpG_b4my",
        "outputId": "18e3e586-f3a4-4539-fd35-6afb0633f94c"
      },
      "outputs": [
        {
          "output_type": "stream",
          "name": "stdout",
          "text": [
            "hello world\n"
          ]
        }
      ],
      "source": [
        "print(\"hello world\")"
      ]
    },
    {
      "cell_type": "code",
      "source": [],
      "metadata": {
        "id": "AL5eMMikcZAj"
      },
      "execution_count": null,
      "outputs": []
    },
    {
      "cell_type": "code",
      "source": [
        "1+2"
      ],
      "metadata": {
        "colab": {
          "base_uri": "https://localhost:8080/"
        },
        "id": "G2r-nGLVcZ-F",
        "outputId": "a499bcf0-fe3b-4c72-dce9-3a9a850a4c81"
      },
      "execution_count": 2,
      "outputs": [
        {
          "output_type": "execute_result",
          "data": {
            "text/plain": [
              "3"
            ]
          },
          "metadata": {},
          "execution_count": 2
        }
      ]
    },
    {
      "cell_type": "markdown",
      "source": [
        "### タイトル\n",
        "\n",
        "こんにちは\\\n",
        "テスト\n",
        "- 箇条書き1\n",
        "- 箇条書き2\n",
        "\n",
        "```\n",
        "print(\"hello world\")\n",
        "```"
      ],
      "metadata": {
        "id": "nA85ZCfvc5G-"
      }
    },
    {
      "cell_type": "code",
      "source": [],
      "metadata": {
        "id": "_jxhDav2czGH"
      },
      "execution_count": null,
      "outputs": []
    }
  ]
}